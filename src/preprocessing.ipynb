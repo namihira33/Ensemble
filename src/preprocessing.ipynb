{
 "cells": [
  {
   "cell_type": "code",
   "execution_count": 5,
   "metadata": {},
   "outputs": [],
   "source": [
    "# 前処理。CASIA2_LISTに載っているCSVデータを、訓練検証用・テスト用のふたつに分ける。\n",
    "\n",
    "import pandas as pd\n",
    "from sklearn.model_selection import train_test_split"
   ]
  },
  {
   "cell_type": "code",
   "execution_count": 54,
   "metadata": {},
   "outputs": [
    {
     "name": "stdout",
     "output_type": "stream",
     "text": [
      "       No. R or L sex  LOCS3_NO  CASIA2_density  LOCS3_C\n",
      "0        1      R   M       3.0          35.879      1.0\n",
      "1        2      L   F       2.0          23.543      4.0\n",
      "2        3      R   F       4.0          29.311      3.0\n",
      "3        4      L   F       4.0          32.290      2.0\n",
      "4        5      R   F       3.0          29.311      1.0\n",
      "...    ...    ...  ..       ...             ...      ...\n",
      "1017  1021      R   M       2.0          16.073      1.0\n",
      "1018  1022      L   M       2.0          16.419      1.0\n",
      "1019  1023      R   F       1.0           8.347      1.0\n",
      "1020  1024      L   F       1.0           9.131      1.0\n",
      "1021  1025      R   M       3.0          26.967      1.0\n",
      "\n",
      "[1022 rows x 6 columns]\n",
      "No.               0\n",
      "R or L            0\n",
      "sex               0\n",
      "LOCS3_NO          0\n",
      "CASIA2_density    0\n",
      "LOCS3_C           0\n",
      "dtype: int64\n"
     ]
    }
   ],
   "source": [
    "csv_imfo = '../../medicaldata/txt/CASIA2_list_imp.csv'\n",
    "df = pd.read_csv(csv_imfo)\n",
    "\n",
    "def isint(s):\n",
    "    try:\n",
    "        int(s)\n",
    "    except ValueError:\n",
    "        return False\n",
    "    else:\n",
    "        return True\n",
    "\n",
    "print(df)\n",
    "#LOCS-NO,density,LOCS-Cの代入\n",
    "locsno = df.columns[3]\n",
    "density = df.columns[4]\n",
    "locsc = df.columns[5]\n",
    "\n",
    "#欠損値の穴埋め\n",
    "df['sex'].fillna('M',inplace=True)\n",
    "df[locsno].fillna(df[locsno].median(),inplace=True)\n",
    "df[density].fillna(df[density].mean(),inplace=True)\n",
    "df[locsc].fillna(df[locsc].median(),inplace=True)\n",
    "\n",
    "print(df.isnull().sum())\n",
    "\n",
    "train_csv,test_csv = train_test_split(df,\n",
    "                             test_size=0.1,\n",
    "                             shuffle=True,\n",
    "                             random_state=0)\n",
    "\n",
    "train_csv.to_csv('../../medicaldata/txt/train_list.csv')\n",
    "test_csv.to_csv('../../medicaldata/txt/val_list.csv')\n",
    "\n",
    "\n",
    "#cnt = 1\n",
    "#for i in df[df.columns[0]]:\n",
    "#    if isint(i):\n",
    "#        if int(i) == cnt:\n",
    "#            print(i)\n",
    "#            cnt += 1\n",
    "#        if cnt == 58:\n",
    "#            cnt = 60\n",
    "#        if cnt == 600:\n",
    "#            cnt = 602\n",
    "#        if cnt == 793:\n",
    "#            cnt = 795\n",
    "\n"
   ]
  },
  {
   "cell_type": "code",
   "execution_count": null,
   "metadata": {},
   "outputs": [],
   "source": []
  },
  {
   "cell_type": "code",
   "execution_count": null,
   "metadata": {},
   "outputs": [],
   "source": []
  },
  {
   "cell_type": "code",
   "execution_count": null,
   "metadata": {},
   "outputs": [],
   "source": []
  },
  {
   "cell_type": "code",
   "execution_count": null,
   "metadata": {},
   "outputs": [],
   "source": []
  }
 ],
 "metadata": {
  "kernelspec": {
   "display_name": "Python 3",
   "language": "python",
   "name": "python3"
  },
  "language_info": {
   "codemirror_mode": {
    "name": "ipython",
    "version": 3
   },
   "file_extension": ".py",
   "mimetype": "text/x-python",
   "name": "python",
   "nbconvert_exporter": "python",
   "pygments_lexer": "ipython3",
   "version": "3.8.5"
  }
 },
 "nbformat": 4,
 "nbformat_minor": 4
}
